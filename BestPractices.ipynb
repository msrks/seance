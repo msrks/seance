{
 "cells": [
  {
   "cell_type": "markdown",
   "metadata": {
    "deletable": true,
    "editable": true
   },
   "source": [
    "# Title of the document\n",
    "\n",
    "Short description of what this notebook is trying to achieve.\n",
    "\n",
    "**Keep productivity high by using modern tools and creating environments that makes experimenting cheap**"
   ]
  },
  {
   "cell_type": "markdown",
   "metadata": {
    "deletable": true,
    "editable": true
   },
   "source": [
    "## Table of conents\n",
    "\n",
    "* [Equation](#equation)\n",
    "* [Image](#image)\n",
    "* [Table](#table)\n",
    "* [Magic](#magic)\n",
    "* [Most important libraries](#libraries)\n",
    "* [System commands](#commands)\n",
    "* [Map](#map)\n",
    "* [Functions as arguments](#funarg)\n",
    "* [With](#with)\n",
    "* [JSON](#json)\n",
    "* [kwargs](#kwargs)"
   ]
  },
  {
   "cell_type": "markdown",
   "metadata": {
    "deletable": true,
    "editable": true
   },
   "source": [
    "## Equation  <a class=\"anchor\" id=\"equation\"></a>\n",
    "\n",
    "There are inline equations: $\\sum_iF_i$ and equations centered in a separate row: $$\\prod_iK^i$$"
   ]
  },
  {
   "cell_type": "markdown",
   "metadata": {
    "deletable": true,
    "editable": true
   },
   "source": [
    "## Images  <a class=\"anchor\" id=\"image\"></a>\n",
    "\n",
    "Images can be inserted in the notebook as follows: <img src=\"./example_data/sample_wrong.jpg\">"
   ]
  },
  {
   "cell_type": "markdown",
   "metadata": {
    "deletable": true,
    "editable": true
   },
   "source": [
    "## Table <a class=\"anchor\" id=\"table\"></a>\n",
    "\n",
    "|a|b|\n",
    "|-|-|\n",
    "|c|d|"
   ]
  },
  {
   "cell_type": "markdown",
   "metadata": {
    "deletable": true,
    "editable": true
   },
   "source": [
    "## Magic <a class=\"anchor\" id=\"magic\"></a>"
   ]
  },
  {
   "cell_type": "code",
   "execution_count": 1,
   "metadata": {
    "collapsed": false,
    "deletable": true,
    "editable": true
   },
   "outputs": [
    {
     "data": {
      "text/plain": [
       "'%.10f'"
      ]
     },
     "execution_count": 1,
     "metadata": {},
     "output_type": "execute_result"
    }
   ],
   "source": [
    "%matplotlib inline\n",
    "%reload_ext autoreload\n",
    "%autoreload 2\n",
    "%precision 10"
   ]
  },
  {
   "cell_type": "markdown",
   "metadata": {
    "deletable": true,
    "editable": true
   },
   "source": [
    "## Most important libraries <a class=\"anchor\" id=\"libraries\"></a>"
   ]
  },
  {
   "cell_type": "code",
   "execution_count": 2,
   "metadata": {
    "collapsed": false,
    "deletable": true,
    "editable": true
   },
   "outputs": [],
   "source": [
    "import pandas as pd\n",
    "import numpy as np\n",
    "import matplotlib.pyplot as plt\n",
    "from matplotlib import pylab\n",
    "pylab.rcParams['figure.figsize'] = (20, 12)\n",
    "import sys\n",
    "import os\n",
    "base_path = os.path.dirname(os.getcwd())\n",
    "sys.path.append(base_path)\n",
    "import sklearn"
   ]
  },
  {
   "cell_type": "markdown",
   "metadata": {
    "deletable": true,
    "editable": true
   },
   "source": [
    "## System commands <a class=\"anchor\" id=\"commands\"></a>\n"
   ]
  },
  {
   "cell_type": "code",
   "execution_count": 3,
   "metadata": {
    "collapsed": false,
    "deletable": true,
    "editable": true
   },
   "outputs": [
    {
     "name": "stdout",
     "output_type": "stream",
     "text": [
      "total 820\r\n",
      "drwxrwxr-x 6 1000 1000   4096 Jan 23 18:24 .\r\n",
      "drwxrwxr-x 7 1000 1000   4096 Jan 23 14:35 ..\r\n",
      "drwxr-xr-x 2 root root   4096 Jan 23 18:24 .ipynb_checkpoints\r\n",
      "-rw-rw-r-- 1 1000 1000   4274 Jan  3 17:38 BestPractices.ipynb\r\n",
      "-rw-rw-r-- 1 1000 1000 326853 Jan 12 17:29 CrimpingExample.ipynb\r\n",
      "-rw-r--r-- 1 1000 1000    809 Dec 27 09:10 LegoPlays.ipynb\r\n",
      "drwxrwxr-x 3 1000 1000   4096 Jan 23 14:17 OpenCV\r\n",
      "-rw-rw-r-- 1 1000 1000 343773 Jan  6 10:04 TemplateMatching.ipynb\r\n",
      "-rw-r--r-- 1 1000 1000  58184 Jan  1 19:26 Tutorial_TestingJupyter.ipynb\r\n",
      "-rw-rw-r-- 1 1000 1000  66598 Dec 27 12:11 Tutorial_TrapezoidRule.ipynb\r\n",
      "drwxrwxr-x 2 1000 1000   4096 Jan 12 17:29 crimping_example\r\n",
      "drwxrwxr-x 2 1000 1000   4096 Jan 12 20:23 example_data\r\n"
     ]
    }
   ],
   "source": [
    "!ls -la"
   ]
  },
  {
   "cell_type": "markdown",
   "metadata": {
    "collapsed": true,
    "deletable": true,
    "editable": true
   },
   "source": [
    "## Map  <a class=\"anchor\" id=\"map\"></a>"
   ]
  },
  {
   "cell_type": "code",
   "execution_count": 6,
   "metadata": {
    "collapsed": false,
    "deletable": true,
    "editable": true
   },
   "outputs": [],
   "source": [
    "m = {\"key1\":3, \"key2\":4}"
   ]
  },
  {
   "cell_type": "code",
   "execution_count": 7,
   "metadata": {
    "collapsed": false,
    "deletable": true,
    "editable": true
   },
   "outputs": [
    {
     "data": {
      "text/plain": [
       "3"
      ]
     },
     "execution_count": 7,
     "metadata": {},
     "output_type": "execute_result"
    }
   ],
   "source": [
    "m[\"key1\"]"
   ]
  },
  {
   "cell_type": "code",
   "execution_count": 9,
   "metadata": {
    "collapsed": false,
    "deletable": true,
    "editable": true
   },
   "outputs": [
    {
     "data": {
      "text/plain": [
       "dict_keys(['key1', 'key2'])"
      ]
     },
     "execution_count": 9,
     "metadata": {},
     "output_type": "execute_result"
    }
   ],
   "source": [
    "m.keys()"
   ]
  },
  {
   "cell_type": "markdown",
   "metadata": {
    "deletable": true,
    "editable": true
   },
   "source": [
    "## Functions as arguments  <a class=\"anchor\" id=\"funarg\"></a>"
   ]
  },
  {
   "cell_type": "code",
   "execution_count": 10,
   "metadata": {
    "collapsed": true,
    "deletable": true,
    "editable": true
   },
   "outputs": [],
   "source": [
    "def f(i):\n",
    "    return i*i"
   ]
  },
  {
   "cell_type": "code",
   "execution_count": 14,
   "metadata": {
    "collapsed": true,
    "deletable": true,
    "editable": true
   },
   "outputs": [],
   "source": [
    "def evaluator(g, arg=3.0):\n",
    "    print(g(arg))"
   ]
  },
  {
   "cell_type": "code",
   "execution_count": 15,
   "metadata": {
    "collapsed": false,
    "deletable": true,
    "editable": true
   },
   "outputs": [
    {
     "name": "stdout",
     "output_type": "stream",
     "text": [
      "9.0\n"
     ]
    }
   ],
   "source": [
    "evaluator(f)"
   ]
  },
  {
   "cell_type": "code",
   "execution_count": 16,
   "metadata": {
    "collapsed": false,
    "deletable": true,
    "editable": true
   },
   "outputs": [
    {
     "name": "stdout",
     "output_type": "stream",
     "text": [
      "16.0\n"
     ]
    }
   ],
   "source": [
    "evaluator(f, 4.)"
   ]
  },
  {
   "cell_type": "markdown",
   "metadata": {
    "collapsed": true,
    "deletable": true,
    "editable": true
   },
   "source": [
    "## With  <a class=\"anchor\" id=\"with\"></a>\n",
    "\n",
    "ContextManager:\n",
    "__enter__\n",
    "__exit__"
   ]
  },
  {
   "cell_type": "code",
   "execution_count": null,
   "metadata": {
    "collapsed": true,
    "deletable": true,
    "editable": true
   },
   "outputs": [],
   "source": [
    "with open(\"filename\", 'r') as f:\n",
    "    "
   ]
  },
  {
   "cell_type": "markdown",
   "metadata": {
    "deletable": true,
    "editable": true
   },
   "source": [
    "## JSON <a class=\"anchor\" id=\"json\"></a>\n",
    "\n",
    "Object serializer. Javascript bases.\n",
    "dumps\n",
    "loads\n",
    "str, int, dict, list"
   ]
  },
  {
   "cell_type": "code",
   "execution_count": 4,
   "metadata": {
    "collapsed": false,
    "deletable": true,
    "editable": true
   },
   "outputs": [],
   "source": [
    "import json\n",
    "config = {\"terminal type 1\":\n",
    "              {\"rectange 1\": [1, 2, 3, 4]},\n",
    "          \"terminal type 2\": \n",
    "              {\"rectange 1\": [1, 2, 3, 5]\n",
    "              },\n",
    "         }"
   ]
  },
  {
   "cell_type": "code",
   "execution_count": 10,
   "metadata": {
    "collapsed": false,
    "deletable": true,
    "editable": true
   },
   "outputs": [],
   "source": [
    "with open(\"crimping.cfg\", 'w+') as f:\n",
    "    json.dump(config, f, sort_keys=True)"
   ]
  },
  {
   "cell_type": "code",
   "execution_count": 11,
   "metadata": {
    "collapsed": false,
    "deletable": true,
    "editable": true
   },
   "outputs": [
    {
     "name": "stdout",
     "output_type": "stream",
     "text": [
      "{\"terminal type 1\": {\"rectange 1\": [1, 2, 3, 4]}, \"terminal type 2\": {\"rectange 1\": [1, 2, 3, 5]}}"
     ]
    }
   ],
   "source": [
    "!cat crimping.cfg"
   ]
  },
  {
   "cell_type": "code",
   "execution_count": 15,
   "metadata": {
    "collapsed": false,
    "deletable": true,
    "editable": true
   },
   "outputs": [
    {
     "data": {
      "text/plain": [
       "[1, 2, 3, 4]"
      ]
     },
     "execution_count": 15,
     "metadata": {},
     "output_type": "execute_result"
    }
   ],
   "source": [
    "with open(\"crimping.cfg\", 'r') as g:\n",
    "    new_cfg = json.load(g)\n",
    "new_cfg['terminal type 1']['rectange 1']"
   ]
  },
  {
   "cell_type": "markdown",
   "metadata": {
    "deletable": true,
    "editable": true
   },
   "source": [
    "## kwargs <a class=\"anchor\" id=\"kwargs\"></a>"
   ]
  },
  {
   "cell_type": "code",
   "execution_count": 16,
   "metadata": {
    "collapsed": true,
    "deletable": true,
    "editable": true
   },
   "outputs": [],
   "source": [
    "def func(a, b=1):\n",
    "    return a + b"
   ]
  },
  {
   "cell_type": "code",
   "execution_count": 17,
   "metadata": {
    "collapsed": false,
    "deletable": true,
    "editable": true
   },
   "outputs": [
    {
     "data": {
      "text/plain": [
       "3"
      ]
     },
     "execution_count": 17,
     "metadata": {},
     "output_type": "execute_result"
    }
   ],
   "source": [
    "func(2)"
   ]
  },
  {
   "cell_type": "code",
   "execution_count": 19,
   "metadata": {
    "collapsed": false,
    "deletable": true,
    "editable": true
   },
   "outputs": [
    {
     "data": {
      "text/plain": [
       "4"
      ]
     },
     "execution_count": 19,
     "metadata": {},
     "output_type": "execute_result"
    }
   ],
   "source": [
    "func(2, 2)"
   ]
  },
  {
   "cell_type": "code",
   "execution_count": 35,
   "metadata": {
    "collapsed": false,
    "deletable": true,
    "editable": true
   },
   "outputs": [],
   "source": [
    "def func_kw(tutti1, tutti2, **kwargs):\n",
    "    for key, value in kwargs.items():\n",
    "        print(key, value)"
   ]
  },
  {
   "cell_type": "code",
   "execution_count": 36,
   "metadata": {
    "collapsed": false,
    "deletable": true,
    "editable": true
   },
   "outputs": [
    {
     "name": "stdout",
     "output_type": "stream",
     "text": [
      "hello 7\n"
     ]
    }
   ],
   "source": [
    "func_kw(1, 2, hello=7)"
   ]
  },
  {
   "cell_type": "markdown",
   "metadata": {
    "collapsed": true,
    "deletable": true,
    "editable": true
   },
   "source": [
    "Quite clear explanation:\n",
    "https://pythontips.com/2013/08/04/args-and-kwargs-in-python-explained/\n",
    "Copy-pasted examples from it below:"
   ]
  },
  {
   "cell_type": "code",
   "execution_count": 2,
   "metadata": {
    "collapsed": false,
    "deletable": true,
    "editable": true
   },
   "outputs": [
    {
     "name": "stdout",
     "output_type": "stream",
     "text": [
      "first normal arg: yasoob\n",
      "another arg through *argv : python\n",
      "another arg through *argv : eggs\n",
      "another arg through *argv : test\n"
     ]
    }
   ],
   "source": [
    "def test_var_args(f_arg, *argv):\n",
    "    print(\"first normal arg:\", f_arg)\n",
    "    for arg in argv:\n",
    "        print(\"another arg through *argv :\", arg)\n",
    "\n",
    "test_var_args('yasoob','python','eggs','test')"
   ]
  },
  {
   "cell_type": "code",
   "execution_count": 5,
   "metadata": {
    "collapsed": false,
    "deletable": true,
    "editable": true
   },
   "outputs": [
    {
     "name": "stdout",
     "output_type": "stream",
     "text": [
      "attis bolcs\n",
      "name yasoob\n",
      "lego okos\n"
     ]
    }
   ],
   "source": [
    "def greet_me(**kwargs):\n",
    "    if kwargs is not None:\n",
    "        for key, value in kwargs.items():\n",
    "            # print(\"%s == %s\" %(key,value))\n",
    "            print(key,value)\n",
    "\n",
    "greet_me(name=\"yasoob\", lego=\"okos\", attis=\"bolcs\")\n",
    "\n",
    "# lego = {\"lego\":\"okos\"}\n",
    "# greet_me(lego)"
   ]
  },
  {
   "cell_type": "code",
   "execution_count": 23,
   "metadata": {
    "collapsed": false,
    "deletable": true,
    "editable": true
   },
   "outputs": [
    {
     "name": "stdout",
     "output_type": "stream",
     "text": [
      "First test\n",
      "arg1: two\n",
      "arg2: 3\n",
      "arg3: 5\n",
      "\n",
      "Second test\n",
      "arg1: 5\n",
      "arg2: two\n",
      "arg3: 3\n"
     ]
    }
   ],
   "source": [
    "def test_args_kwargs(arg1, arg2, arg3):\n",
    "    print(\"arg1:\", arg1)\n",
    "    print(\"arg2:\", arg2)\n",
    "    print(\"arg3:\", arg3)\n",
    "\n",
    "# first with *args\n",
    "args = (\"two\", 3,5)\n",
    "print('First test')\n",
    "test_args_kwargs(*args)\n",
    "\n",
    "# now with **kwargs:\n",
    "kwargs = {\"arg3\": 3, \"arg2\": \"two\",\"arg1\":5}\n",
    "print('\\nSecond test')\n",
    "test_args_kwargs(**kwargs)\n"
   ]
  },
  {
   "cell_type": "code",
   "execution_count": 36,
   "metadata": {
    "collapsed": false,
    "deletable": true,
    "editable": true
   },
   "outputs": [
    {
     "name": "stdout",
     "output_type": "stream",
     "text": [
      "First test:\n",
      "Fargs:\n",
      "1\n",
      "Args:\n",
      "Kwargs:\n",
      "\n",
      "Second test:\n",
      "Fargs:\n",
      "1\n",
      "Args:\n",
      "2\n",
      "Kwargs:\n",
      "\n",
      "Third test:\n",
      "Fargs:\n",
      "1\n",
      "Args:\n",
      "2\n",
      "3\n",
      "Kwargs:\n",
      "\n",
      "Fourth test:\n",
      "Fargs:\n",
      "1\n",
      "Args:\n",
      "2\n",
      "Kwargs:\n",
      "kwArg1 3\n"
     ]
    }
   ],
   "source": [
    "def some_func(fargs,*args,**kwargs):\n",
    "    \n",
    "    print('Fargs:')\n",
    "    print(fargs)\n",
    "    \n",
    "    if args is not None:\n",
    "        print('Args:')\n",
    "        for value in args:\n",
    "            print(value)\n",
    "\n",
    "    if kwargs is not None:\n",
    "        print('Kwargs:')\n",
    "        for key, value in kwargs.items():\n",
    "            # print(\"%s == %s\" %(key,value))\n",
    "            print(key,value)\n",
    "\n",
    "\n",
    "print('First test:')\n",
    "some_func(1)\n",
    "\n",
    "print('\\nSecond test:')\n",
    "some_func(1, 2)\n",
    "\n",
    "print('\\nThird test:')\n",
    "some_func(1, 2, 3)\n",
    "\n",
    "print('\\nFourth test:')\n",
    "some_func(1, 2, **{\"kwArg1\":3})"
   ]
  }
 ],
 "metadata": {
  "anaconda-cloud": {},
  "kernelspec": {
   "display_name": "Python 3",
   "language": "python",
   "name": "python3"
  },
  "language_info": {
   "codemirror_mode": {
    "name": "ipython",
    "version": 3
   },
   "file_extension": ".py",
   "mimetype": "text/x-python",
   "name": "python",
   "nbconvert_exporter": "python",
   "pygments_lexer": "ipython3",
   "version": "3.5.2"
  }
 },
 "nbformat": 4,
 "nbformat_minor": 1
}
